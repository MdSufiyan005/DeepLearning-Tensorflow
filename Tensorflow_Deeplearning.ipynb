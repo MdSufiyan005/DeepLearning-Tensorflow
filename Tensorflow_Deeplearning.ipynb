{
  "nbformat": 4,
  "nbformat_minor": 0,
  "metadata": {
    "colab": {
      "provenance": [],
      "authorship_tag": "ABX9TyNQ8MdloI6LFqJmOLifgqjU",
      "include_colab_link": true
    },
    "kernelspec": {
      "name": "python3",
      "display_name": "Python 3"
    },
    "language_info": {
      "name": "python"
    }
  },
  "cells": [
    {
      "cell_type": "markdown",
      "metadata": {
        "id": "view-in-github",
        "colab_type": "text"
      },
      "source": [
        "<a href=\"https://colab.research.google.com/github/MdSufiyan005/DeepLearning-Tensorflow/blob/main/Tensorflow_Deeplearning.ipynb\" target=\"_parent\"><img src=\"https://colab.research.google.com/assets/colab-badge.svg\" alt=\"Open In Colab\"/></a>"
      ]
    },
    {
      "cell_type": "code",
      "execution_count": null,
      "metadata": {
        "id": "oQQEqafK6Rp1"
      },
      "outputs": [],
      "source": [
        "import tensorflow as tf"
      ]
    },
    {
      "cell_type": "markdown",
      "source": [
        "# Tensors are data structures used in machine learning to represent input data and output data in Machine Learning models. They are buckets of numbers of a specific shape and a certain rank (dimensionality). Tensors are used by neural networks as components to describe and calculate phenomena. In machine learning, tensors are used to represent data with different dimensions, such as pixels in a photo. Tensors are represented as lists or arrays of arrays."
      ],
      "metadata": {
        "id": "9L4wQclR8vAB"
      }
    },
    {
      "cell_type": "code",
      "source": [
        "scalar = tf.constant(7) ## Creating scalar\n",
        "scalar"
      ],
      "metadata": {
        "colab": {
          "base_uri": "https://localhost:8080/"
        },
        "id": "jw2fOOcx6gRO",
        "outputId": "13d89da9-3c35-4957-970b-8475c0cac0ea"
      },
      "execution_count": null,
      "outputs": [
        {
          "output_type": "execute_result",
          "data": {
            "text/plain": [
              "<tf.Tensor: shape=(), dtype=int32, numpy=7>"
            ]
          },
          "metadata": {},
          "execution_count": 2
        }
      ]
    },
    {
      "cell_type": "code",
      "source": [
        "Matrices = tf.constant([[10,7],[7,10]]) ## Creating Matrices\n",
        "Matrices"
      ],
      "metadata": {
        "colab": {
          "base_uri": "https://localhost:8080/"
        },
        "id": "PW_G8tFs6oGh",
        "outputId": "a02bb643-52b5-4283-dda9-87721209ae37"
      },
      "execution_count": null,
      "outputs": [
        {
          "output_type": "execute_result",
          "data": {
            "text/plain": [
              "<tf.Tensor: shape=(2, 2), dtype=int32, numpy=\n",
              "array([[10,  7],\n",
              "       [ 7, 10]], dtype=int32)>"
            ]
          },
          "metadata": {},
          "execution_count": 4
        }
      ]
    },
    {
      "cell_type": "code",
      "source": [
        "Matrices.ndim"
      ],
      "metadata": {
        "colab": {
          "base_uri": "https://localhost:8080/"
        },
        "id": "KfTwdxA27DIJ",
        "outputId": "0c703ceb-fc92-477b-af56-39928aae55c8"
      },
      "execution_count": null,
      "outputs": [
        {
          "output_type": "execute_result",
          "data": {
            "text/plain": [
              "2"
            ]
          },
          "metadata": {},
          "execution_count": 5
        }
      ]
    },
    {
      "cell_type": "code",
      "source": [
        "Tensors = tf.constant([[[1,2,3],[5,6,4]],  ## Creating Tensor\n",
        "\n",
        "                        [[6,5,4],[4,5,9]],\n",
        "\n",
        "                       [[6,8,9],[4,2,8]]])\n",
        "Tensors"
      ],
      "metadata": {
        "colab": {
          "base_uri": "https://localhost:8080/"
        },
        "id": "0W_0xM2M7GFf",
        "outputId": "37a65e62-723f-4aea-9bf5-54892f74a97e"
      },
      "execution_count": null,
      "outputs": [
        {
          "output_type": "execute_result",
          "data": {
            "text/plain": [
              "<tf.Tensor: shape=(3, 2, 3), dtype=int32, numpy=\n",
              "array([[[1, 2, 3],\n",
              "        [5, 6, 4]],\n",
              "\n",
              "       [[6, 5, 4],\n",
              "        [4, 5, 9]],\n",
              "\n",
              "       [[6, 8, 9],\n",
              "        [4, 2, 8]]], dtype=int32)>"
            ]
          },
          "metadata": {},
          "execution_count": 10
        }
      ]
    },
    {
      "cell_type": "code",
      "source": [
        "Tensors.ndim ## ndim for knowing its dimension"
      ],
      "metadata": {
        "colab": {
          "base_uri": "https://localhost:8080/"
        },
        "id": "tBS3KwXk71fZ",
        "outputId": "7e4945bc-409a-42e4-b170-be5548760aa1"
      },
      "execution_count": null,
      "outputs": [
        {
          "output_type": "execute_result",
          "data": {
            "text/plain": [
              "3"
            ]
          },
          "metadata": {},
          "execution_count": 11
        }
      ]
    },
    {
      "cell_type": "code",
      "source": [
        "# Creating Tensors Using tf.Variables\n",
        "changable_tensor = tf.Variable([10,7])\n",
        "nonchangable_tensor = tf.constant([10,7])\n",
        "\n",
        "changable_tensor[0].assign(5) ## We can change the values of tensors by using tf.Variables and using .assign\n",
        "\n"
      ],
      "metadata": {
        "colab": {
          "base_uri": "https://localhost:8080/"
        },
        "id": "6LOxQhTC8Q9-",
        "outputId": "de47f299-756c-4ba9-908a-b364b7170d55"
      },
      "execution_count": null,
      "outputs": [
        {
          "output_type": "execute_result",
          "data": {
            "text/plain": [
              "<tf.Variable 'UnreadVariable' shape=(2,) dtype=int32, numpy=array([5, 7], dtype=int32)>"
            ]
          },
          "metadata": {},
          "execution_count": 12
        }
      ]
    },
    {
      "cell_type": "code",
      "source": [
        "nonchangable_tensor[0].assign(1)  ## while using tf.constant we cannot change the values of the tensors"
      ],
      "metadata": {
        "id": "be39Tjbr9iGx"
      },
      "execution_count": null,
      "outputs": []
    },
    {
      "cell_type": "code",
      "source": [
        "## Creating  Random Tensors\n",
        "## Random tensors are tensors of some arbitrary size that contain a random number\n",
        "\n",
        "## create two random tensors\n",
        "\n",
        "random1 = tf.random.Generator.from_seed(42)\n",
        "random1 =random1.normal(shape=(3,2))\n",
        "\n",
        "random2 = tf.random.Generator.from_seed(42)\n",
        "random2 = random2.normal(shape=(3,2))\n",
        "\n",
        "random1,random2, random1 == random2\n"
      ],
      "metadata": {
        "colab": {
          "base_uri": "https://localhost:8080/"
        },
        "id": "huHSdWbD-Qpm",
        "outputId": "6bbd0968-25f9-4585-ce09-ea3ba77666ac"
      },
      "execution_count": null,
      "outputs": [
        {
          "output_type": "execute_result",
          "data": {
            "text/plain": [
              "(<tf.Tensor: shape=(3, 2), dtype=float32, numpy=\n",
              " array([[-0.7565803 , -0.06854702],\n",
              "        [ 0.07595026, -1.2573844 ],\n",
              "        [-0.23193763, -1.8107855 ]], dtype=float32)>,\n",
              " <tf.Tensor: shape=(3, 2), dtype=float32, numpy=\n",
              " array([[-0.7565803 , -0.06854702],\n",
              "        [ 0.07595026, -1.2573844 ],\n",
              "        [-0.23193763, -1.8107855 ]], dtype=float32)>,\n",
              " <tf.Tensor: shape=(3, 2), dtype=bool, numpy=\n",
              " array([[ True,  True],\n",
              "        [ True,  True],\n",
              "        [ True,  True]])>)"
            ]
          },
          "metadata": {},
          "execution_count": 19
        }
      ]
    },
    {
      "cell_type": "code",
      "source": [
        "### shuffle the orders of elements in a tensor\n",
        "\n",
        "not_shuffled = tf.constant([[10,7],[3,4],[2,5]])\n",
        "not_shuffled"
      ],
      "metadata": {
        "id": "a8bnMJagCDdc",
        "colab": {
          "base_uri": "https://localhost:8080/"
        },
        "outputId": "50873e33-dd9f-4cb5-de9d-e1ea3b740c4a"
      },
      "execution_count": 23,
      "outputs": [
        {
          "output_type": "execute_result",
          "data": {
            "text/plain": [
              "<tf.Tensor: shape=(3, 2), dtype=int32, numpy=\n",
              "array([[10,  7],\n",
              "       [ 3,  4],\n",
              "       [ 2,  5]], dtype=int32)>"
            ]
          },
          "metadata": {},
          "execution_count": 23
        }
      ]
    },
    {
      "cell_type": "code",
      "source": [
        "tf.random.shuffle(not_shuffled,seed =40)"
      ],
      "metadata": {
        "colab": {
          "base_uri": "https://localhost:8080/"
        },
        "id": "d-ZrFUVPF8YB",
        "outputId": "2bdec5ee-6987-4c19-a7aa-8a38dedaa7bf"
      },
      "execution_count": 27,
      "outputs": [
        {
          "output_type": "execute_result",
          "data": {
            "text/plain": [
              "<tf.Tensor: shape=(3, 2), dtype=int32, numpy=\n",
              "array([[ 3,  4],\n",
              "       [10,  7],\n",
              "       [ 2,  5]], dtype=int32)>"
            ]
          },
          "metadata": {},
          "execution_count": 27
        }
      ]
    },
    {
      "cell_type": "code",
      "source": [],
      "metadata": {
        "id": "CKasbCWOGrBq"
      },
      "execution_count": null,
      "outputs": []
    }
  ]
}